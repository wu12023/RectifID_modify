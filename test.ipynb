{
 "cells": [
  {
   "cell_type": "code",
   "execution_count": 31,
   "metadata": {},
   "outputs": [
    {
     "name": "stdout",
     "output_type": "stream",
     "text": [
      "tensor([[[[1., 1., 1.,  ..., 1., 1., 1.],\n",
      "          [1., 1., 1.,  ..., 1., 1., 1.],\n",
      "          [1., 1., 1.,  ..., 1., 1., 1.],\n",
      "          ...,\n",
      "          [1., 1., 1.,  ..., 1., 1., 1.],\n",
      "          [1., 1., 1.,  ..., 1., 1., 1.],\n",
      "          [1., 1., 1.,  ..., 1., 1., 1.]],\n",
      "\n",
      "         [[1., 1., 1.,  ..., 1., 1., 1.],\n",
      "          [1., 1., 1.,  ..., 1., 1., 1.],\n",
      "          [1., 1., 1.,  ..., 1., 1., 1.],\n",
      "          ...,\n",
      "          [1., 1., 1.,  ..., 1., 1., 1.],\n",
      "          [1., 1., 1.,  ..., 1., 1., 1.],\n",
      "          [1., 1., 1.,  ..., 1., 1., 1.]],\n",
      "\n",
      "         [[1., 1., 1.,  ..., 1., 1., 1.],\n",
      "          [1., 1., 1.,  ..., 1., 1., 1.],\n",
      "          [1., 1., 1.,  ..., 1., 1., 1.],\n",
      "          ...,\n",
      "          [1., 1., 1.,  ..., 1., 1., 1.],\n",
      "          [1., 1., 1.,  ..., 1., 1., 1.],\n",
      "          [1., 1., 1.,  ..., 1., 1., 1.]],\n",
      "\n",
      "         [[1., 1., 1.,  ..., 1., 1., 1.],\n",
      "          [1., 1., 1.,  ..., 1., 1., 1.],\n",
      "          [1., 1., 1.,  ..., 1., 1., 1.],\n",
      "          ...,\n",
      "          [1., 1., 1.,  ..., 1., 1., 1.],\n",
      "          [1., 1., 1.,  ..., 1., 1., 1.],\n",
      "          [1., 1., 1.,  ..., 1., 1., 1.]]]])\n"
     ]
    }
   ],
   "source": [
    "def main():\n",
    "    import torch\n",
    "    callback_kwargs = {'latents': torch.ones(1, 4, 32, 32)}\n",
    "    latents = torch.randn(4, 4, 32, 32)\n",
    "    latents_last = torch.ones(4, 4, 32, 32)\n",
    "    latents_last_e = torch.ones(4, 4, 32, 32)\n",
    "    initialized_i = -1\n",
    "    i = 0\n",
    "    t = 0\n",
    "    num_steps = 2\n",
    "\n",
    "    def callback(i, t, callback_kwargs):\n",
    "        nonlocal latents_last, latents_last_e, initialized_i\n",
    "        if initialized_i < i:\n",
    "            latents[i:(i+1)].data.copy_(callback_kwargs['latents'])\n",
    "            latents_last[i:(i+1)].copy_(callback_kwargs['latents'])\n",
    "            latents_last_e[i:(i+1)].copy_(callback_kwargs['latents'])\n",
    "            # print(latents)\n",
    "            # print(latents_last)\n",
    "            # print(latents_last_e)\n",
    "            initialized_i = i\n",
    "        if i < num_steps - 1:\n",
    "            callback_kwargs['latents'] += latents[(i+1):(i+2)] - latents[(i+1):(i+2)].detach()\n",
    "            # print(callback_kwargs['latents'])\n",
    "        latents_e = callback_kwargs['latents'].data.clone()\n",
    "        callback_kwargs['latents'] += latents_last[i:(i+1)].detach() - callback_kwargs['latents'].detach()\n",
    "        callback_kwargs['latents'] += latents_e.detach() - latents_last_e[i:(i+1)].detach()\n",
    "        callback_kwargs['latents'] += (latents[i:(i+1)].detach() - latents_last_e[i:(i+1)].detach()) * 0.95796674\n",
    "        print(latents_e)\n",
    "        latents_last[i:(i+1)].copy_(callback_kwargs['latents'])\n",
    "        latents_last_e[i:(i+1)].data.copy_(latents_e)\n",
    "        latents[i:(i+1)].data.copy_(latents_e)\n",
    "        return callback_kwargs\n",
    "\n",
    "    # Call the function\n",
    "    callback(i, t, callback_kwargs)\n",
    "\n",
    "main()"
   ]
  }
 ],
 "metadata": {
  "kernelspec": {
   "display_name": "kohya",
   "language": "python",
   "name": "python3"
  },
  "language_info": {
   "codemirror_mode": {
    "name": "ipython",
    "version": 3
   },
   "file_extension": ".py",
   "mimetype": "text/x-python",
   "name": "python",
   "nbconvert_exporter": "python",
   "pygments_lexer": "ipython3",
   "version": "3.10.14"
  }
 },
 "nbformat": 4,
 "nbformat_minor": 2
}
